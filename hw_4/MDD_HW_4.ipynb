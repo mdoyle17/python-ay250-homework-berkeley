{
 "cells": [
  {
   "cell_type": "markdown",
   "id": "5474a5f6",
   "metadata": {},
   "source": [
    "# Margaret Doyle\n",
    "margaret.doyle@berkeley.edu\n",
    "\n",
    "\n",
    "HW4: Parallelism\n",
    "\n",
    "due Tuesday Feb 22, 2022 \n"
   ]
  },
  {
   "cell_type": "markdown",
   "id": "97b7555a",
   "metadata": {},
   "source": [
    "# #Problem 1 "
   ]
  },
  {
   "cell_type": "code",
   "execution_count": 1,
   "id": "5885e369",
   "metadata": {},
   "outputs": [
    {
     "name": "stdout",
     "output_type": "stream",
     "text": [
      "Overwriting prob1.py\n"
     ]
    }
   ],
   "source": [
    "%%writefile prob1.py\n",
    "from random import uniform\n",
    "from math import sqrt\n",
    "from time import time \n",
    "from dask import delayed\n",
    "import argparse\n",
    "import multiprocessing \n",
    "from concurrent.futures import ProcessPoolExecutor\n",
    "\n",
    "\n",
    "#Dart throwing function \n",
    "def dart(number_of_darts):\n",
    "    number_of_darts_in_circle= 0 \n",
    "    x,y=uniform(0,1), uniform(0,1)\n",
    "    if sqrt((x-0.5)**2 + (y-0.5)**2) <=0.5:\n",
    "        number_of_darts_in_circle +=1\n",
    "    return number_of_darts_in_circle\n",
    "\n",
    "#Delayed dart throwing function to use with Dask \n",
    "@delayed(pure=True)\n",
    "def dart_delayed(number_of_darts):\n",
    "    number_of_darts_in_circle= 0 \n",
    "    for x in range(number_of_darts):\n",
    "        x,y=uniform(0,1), uniform(0,1)\n",
    "        if sqrt((x-0.5)**2 + (y-0.5)**2) <=0.5:\n",
    "            number_of_darts_in_circle +=1\n",
    "    return number_of_darts_in_circle \n",
    "\n",
    "#Delayed addition function to use with dasks\n",
    "@delayed(pure=True)\n",
    "def add(x, y, z):\n",
    "    return x + y + z\n",
    "\n",
    "#Function for experimenting with simple serial, multiprocessing and dask \n",
    "def throw_in_parallel(nthrow):\n",
    "    print(\"%d darts\" %nthrow)\n",
    "    ##################\n",
    "    print('##Multiprocessing##')\n",
    "    number_of_darts_in_circle = 0\n",
    "    pools = multiprocessing.Pool(processes=multiprocessing.cpu_count())\n",
    "    start = time()\n",
    "    results = pools.map(dart,range(nthrow))\n",
    "    totaldart = sum(results)\n",
    "    end=time()\n",
    "    execution_time=end - start\n",
    "    pi_approx = 4 *  totaldart / float(nthrow)\n",
    "    print(f\"Finished in {execution_time} sec\")\n",
    "    print(\"Num darts hit = \",  totaldart)\n",
    "    print(\"Pi approx:\", pi_approx)\n",
    "    print(\"Darts thrown per second:\" , nthrow / execution_time)\n",
    "\n",
    "   ##################\n",
    "    print('##Simple Serial##')\n",
    "    number_of_darts_in_circle = 0\n",
    "    start = time()\n",
    "    results = []\n",
    "    for x in range(nthrow):\n",
    "        results.append(dart(x))\n",
    "    totaldart = sum(results)\n",
    "    end= time()\n",
    "    execution_time= end - start\n",
    "    pi_approx = 4 *  totaldart / float(nthrow)\n",
    "    print(f\"Finished in {execution_time} sec\")\n",
    "    print(\"Num darts hit = \", totaldart)\n",
    "    print(\"Pi approx:\", pi_approx)\n",
    "    print(\"Darts thrown per second:\" , nthrow / execution_time)\n",
    "\n",
    "       ##################\n",
    "    print('##Dask##')\n",
    "    number_of_darts_in_circle = 0\n",
    "    start = time()\n",
    "    \n",
    "    #Split up manually into three chunks\n",
    "    values1 = (dart_delayed(int(nthrow/3)))\n",
    "    values2 = (dart_delayed(int(nthrow/3)))\n",
    "    values3 = (dart_delayed(nthrow -2*int(nthrow/3)))\n",
    "    values4 = add(values1,values2,values3)\n",
    "    results = values4.compute()\n",
    "    end= time()\n",
    "    execution_time = end - start\n",
    "    pi_approx = 4 *  results / float(nthrow)\n",
    "    print(f\"Finished in {execution_time} sec\")\n",
    "    print(\"Num darts hit = \",results)\n",
    "    print(\"Pi approx:\", pi_approx)\n",
    "    print(\"Darts thrown per second:\" , nthrow / execution_time)\n",
    "    print('\\n')\n",
    "\n",
    "if __name__ == \"__main__\":\n",
    "    #Allow user to input number of darts\n",
    "    parser = argparse.ArgumentParser(description='Sample Application')\n",
    "    parser.add_argument('-s', action='store', dest='num_throws',\n",
    "                    help='Store a simple value')\n",
    "    results = parser.parse_args()\n",
    "    nthrow = results.num_throws\n",
    "    nthrow = int(nthrow)\n",
    "\n",
    "throw_in_parallel(nthrow)\n",
    "  "
   ]
  },
  {
   "cell_type": "markdown",
   "id": "1f99c6e6",
   "metadata": {},
   "source": [
    "# Run several trials with different numbers of darts thrown"
   ]
  },
  {
   "cell_type": "code",
   "execution_count": 2,
   "id": "3e5b55ee",
   "metadata": {},
   "outputs": [
    {
     "name": "stdout",
     "output_type": "stream",
     "text": [
      "10 darts\n",
      "##Multiprocessing##\n",
      "Finished in 0.0014967918395996094 sec\n",
      "Num darts hit =  9\n",
      "Pi approx: 3.6\n",
      "Darts thrown per second: 6680.9557183816505\n",
      "##Simple Serial##\n",
      "Finished in 4.601478576660156e-05 sec\n",
      "Num darts hit =  4\n",
      "Pi approx: 1.6\n",
      "Darts thrown per second: 217321.45077720206\n",
      "##Dask##\n",
      "Finished in 0.006640911102294922 sec\n",
      "Num darts hit =  6\n",
      "Pi approx: 2.4\n",
      "Darts thrown per second: 1505.8174768435413\n",
      "\n",
      "\n",
      "10000 darts\n",
      "##Multiprocessing##\n",
      "Finished in 0.006179094314575195 sec\n",
      "Num darts hit =  7861\n",
      "Pi approx: 3.1444\n",
      "Darts thrown per second: 1618360.1497086855\n",
      "##Simple Serial##\n",
      "Finished in 0.008125066757202148 sec\n",
      "Num darts hit =  7855\n",
      "Pi approx: 3.142\n",
      "Darts thrown per second: 1230759.118518736\n",
      "##Dask##\n",
      "Finished in 0.00975489616394043 sec\n",
      "Num darts hit =  7827\n",
      "Pi approx: 3.1308\n",
      "Darts thrown per second: 1025126.2373212759\n",
      "\n",
      "\n",
      "100000 darts\n",
      "##Multiprocessing##\n",
      "Finished in 0.04956197738647461 sec\n",
      "Num darts hit =  78612\n",
      "Pi approx: 3.14448\n",
      "Darts thrown per second: 2017675.7521238418\n",
      "##Simple Serial##\n",
      "Finished in 0.09270000457763672 sec\n",
      "Num darts hit =  78460\n",
      "Pi approx: 3.1384\n",
      "Darts thrown per second: 1078748.5982942914\n",
      "##Dask##\n",
      "Finished in 0.05675911903381348 sec\n",
      "Num darts hit =  78499\n",
      "Pi approx: 3.13996\n",
      "Darts thrown per second: 1761831.432591939\n",
      "\n",
      "\n",
      "100000000 darts\n",
      "##Multiprocessing##\n",
      "Finished in 49.51055312156677 sec\n",
      "Num darts hit =  78544086\n",
      "Pi approx: 3.14176344\n",
      "Darts thrown per second: 2019771.4162971056\n",
      "##Simple Serial##\n",
      "Finished in 86.43983507156372 sec\n",
      "Num darts hit =  78536547\n",
      "Pi approx: 3.14146188\n",
      "Darts thrown per second: 1156874.0259304035\n",
      "##Dask##\n",
      "Finished in 47.337562799453735 sec\n",
      "Num darts hit =  78529956\n",
      "Pi approx: 3.14119824\n",
      "Darts thrown per second: 2112487.2952089114\n",
      "\n",
      "\n"
     ]
    }
   ],
   "source": [
    "!python prob1.py -s 10\n",
    "!python prob1.py -s 10000\n",
    "!python prob1.py -s 100000\n",
    "!python prob1.py -s 100000000"
   ]
  },
  {
   "cell_type": "markdown",
   "id": "2457a1b3",
   "metadata": {},
   "source": [
    "# #Problem 2, plotting execution time as function of number of darts "
   ]
  },
  {
   "cell_type": "code",
   "execution_count": 3,
   "id": "aab0b0f9",
   "metadata": {},
   "outputs": [],
   "source": [
    "con_time_all = []\n",
    "serial_time_all = []\n",
    "dask_time_all =[]\n",
    "serial_rate_all=[]\n",
    "con_rate_all=[]\n",
    "dask_rate_all =[]\n",
    "darts =[]\n",
    "\n",
    "for x in [10, 100,1000,   10000, 100000, 1000000, 10000000]:\n",
    "\n",
    "    a = !python prob1.py -s $x\n",
    "    darts.append(x)\n",
    "\n",
    "    #Split up and store output for plotting \n",
    "    con_time = float(a[2].split()[2])\n",
    "    serial_time = float(a[7].split()[2])\n",
    "    dask_time = float(a[12].split()[2])\n",
    "\n",
    "    con_rate = float(a[5].split()[4])\n",
    "    serial_rate =float(a[10].split()[4])\n",
    "    dask_rate = float(a[15].split()[4])\n",
    "\n",
    "    con_time_all.append(con_time)\n",
    "    serial_time_all.append(serial_time)\n",
    "    dask_time_all.append(dask_time)\n",
    "    \n",
    "    con_rate_all.append(con_rate)\n",
    "    serial_rate_all.append(serial_rate)\n",
    "    dask_rate_all.append(dask_rate)\n",
    "    "
   ]
  },
  {
   "cell_type": "code",
   "execution_count": 5,
   "id": "c5096a27",
   "metadata": {},
   "outputs": [
    {
     "data": {
      "image/png": "[encoded data removed]",
      "text/plain": [
       "<Figure size 576x432 with 2 Axes>"
      ]
     },
     "metadata": {
      "needs_background": "light"
     },
     "output_type": "display_data"
    },
    {
     "name": "stdout",
     "output_type": "stream",
     "text": [
      "Processor: 3.5 GHz Dual-Core Intel Core i7, 4 'cores' \n"
     ]
    }
   ],
   "source": [
    "import matplotlib.pyplot as plt\n",
    "import multiprocessing\n",
    "fig, ax1 = plt.subplots(figsize=[8,6])\n",
    "ax2 = ax1.twinx()\n",
    "ax1.plot(darts,serial_time_all, color = 'red', linewidth=2, label ='simple')\n",
    "ax1.plot(darts,con_time_all, color='cyan' ,linewidth=2, label = 'multiprocessing')\n",
    "ax1.plot(darts,dask_time_all, color='green',linewidth=2, label='dask')\n",
    "\n",
    "\n",
    "ax2.plot(darts,con_rate_all, dashes=[6, 2], color='cyan' )\n",
    "ax2.plot(darts,serial_rate_all, dashes=[6, 2], color = 'red')\n",
    "ax2.plot(darts,dask_rate_all,  dashes=[6, 2],  color='green',)\n",
    "\n",
    "ax1.set_ylabel('Execution Time (seconds), solid line',fontsize=15)\n",
    "ax2.set_ylabel('Simulation Rate (darts/second), dashed line',fontsize=15)\n",
    "ax1.loglog()\n",
    "ax2.loglog()\n",
    "\n",
    "ax1.set_ylim(1e-5, 1e2)\n",
    "ax2.set_ylim(1e2, 1e7)\n",
    "ax1.set_xlim(1e1, 1e7)\n",
    "ax1.set_xlabel('Darts Thrown',fontsize=15)\n",
    "ax1.legend(loc='upper left',fontsize=12)\n",
    "ax1.tick_params(labelsize=14)\n",
    "ax2.tick_params(labelsize=14)\n",
    "plt.show()\n",
    "print(\"Processor: 3.5 GHz Dual-Core Intel Core i7, %d 'cores' \" %multiprocessing.cpu_count())"
   ]
  },
  {
   "cell_type": "markdown",
   "id": "c30fed4a",
   "metadata": {},
   "source": [
    "**Behavior of plot** : Written in README File !"
   ]
  },
  {
   "cell_type": "markdown",
   "id": "33f3bed9",
   "metadata": {},
   "source": [
    "# #Problem 3, Write a short narrative explaining the differences and advantages between the approaches."
   ]
  },
  {
   "cell_type": "markdown",
   "id": "545e1be7",
   "metadata": {},
   "source": [
    "When dealing with a smaller number of tasks (n < 1e4), simple serial will be the most efficient method to use (will be as fast as ~1e-4 seconds!) . This is due to the fact that both dask and multiprocessing require additional indirect time which is dedicated towards preparing the calculation before execution (overhead). Since this overhead time is non trivial, the benefits of parallelization will really only begin to outweigh the cost of once the calculation grow large enough (n > 1e4), at which point the improvements in rate and execution time of both dask and multiprocessing begin to show a slight improvement over simple serial. \n",
    "\n",
    "So, for small n, it is best to use simple serial. Not to mention, sometimes transferring code from serial to something parallel is not so obvious. Of course, there are occasions when a piece of code is \"embarrassingly parallel\" , but in occasions when it is not, much time will be wasted actually writing out the code, which may not be so much fun. \n",
    "\n",
    "When comparing both dask and multiprocessing, it appears that the latter starts out faster for small n.  However, once n > 1e5, both methods appear to converge to operate at roughly the same rate and with roughly the same execution time. Dask can be nice as it allows for operations to take place on very large sets of data which may otherwise not fit into memory. Dask can also be nice when working with NumPy arrays. "
   ]
  },
  {
   "cell_type": "code",
   "execution_count": null,
   "id": "8dbbb09d",
   "metadata": {},
   "outputs": [],
   "source": []
  }
 ],
 "metadata": {
  "kernelspec": {
   "display_name": "Python 3",
   "language": "python",
   "name": "python3"
  },
  "language_info": {
   "codemirror_mode": {
    "name": "ipython",
    "version": 3
   },
   "file_extension": ".py",
   "mimetype": "text/x-python",
   "name": "python",
   "nbconvert_exporter": "python",
   "pygments_lexer": "ipython3",
   "version": "3.7.4"
  }
 },
 "nbformat": 4,
 "nbformat_minor": 5
}
