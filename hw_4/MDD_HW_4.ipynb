{
 "cells": [
  {
   "cell_type": "markdown",
   "id": "ce28eecf",
   "metadata": {},
   "source": [
    "# Margaret Doyle\n",
    "margaret.doyle@berkeley.edu\n",
    "\n",
    "\n",
    "HW4: Parallelism\n",
    "\n",
    "due Tuesday Feb 22, 2022 \n"
   ]
  },
  {
   "cell_type": "markdown",
   "id": "2ae6d54c",
   "metadata": {},
   "source": [
    "# #Problem 1 "
   ]
  },
  {
   "cell_type": "code",
   "execution_count": 28,
   "id": "f63b3324",
   "metadata": {},
   "outputs": [
    {
     "name": "stdout",
     "output_type": "stream",
     "text": [
      "Overwriting prob1.py\n"
     ]
    }
   ],
   "source": [
    "%%writefile prob1.py\n",
    "from random import uniform\n",
    "from math import sqrt\n",
    "from time import time \n",
    "from dask import delayed\n",
    "import argparse\n",
    "import multiprocessing \n",
    "from concurrent.futures import ProcessPoolExecutor\n",
    "\n",
    "\n",
    "#Dart throwing function \n",
    "def dart(number_of_darts):\n",
    "    number_of_darts_in_circle= 0 \n",
    "    x,y=uniform(0,1), uniform(0,1)\n",
    "    if sqrt((x-0.5)**2 + (y-0.5)**2) <=0.5:\n",
    "        number_of_darts_in_circle +=1\n",
    "    return (number_of_darts_in_circle)\n",
    "\n",
    "#Delayed dart throwing function to use with Dask \n",
    "@delayed(pure=True)\n",
    "def dart_delayed(number_of_darts):\n",
    "    number_of_darts_in_circle= 0 \n",
    "    for x in range(number_of_darts):\n",
    "        x,y=uniform(0,1), uniform(0,1)\n",
    "        if sqrt((x-0.5)**2 + (y-0.5)**2) <=0.5:\n",
    "            number_of_darts_in_circle +=1\n",
    "    return number_of_darts_in_circle \n",
    "\n",
    "#Delayed addition function to use with dasks\n",
    "@delayed(pure=True)\n",
    "def add(x, y, z):\n",
    "    return x + y + z\n",
    "\n",
    "#Function for experimenting with simple serial, multiprocessing and dask \n",
    "def throw_in_parallel(nthrow):\n",
    "    print(\"%d darts\" %nthrow)\n",
    "    ##################\n",
    "    print('##Multiprocessing##')\n",
    "    number_of_darts_in_circle = 0\n",
    "    pools = multiprocessing.Pool(processes=multiprocessing.cpu_count())\n",
    "    start = time()\n",
    "    results = pools.map(dart,range(nthrow))\n",
    "    totaldart = sum(results)\n",
    "    end=time()\n",
    "    execution_time=end - start\n",
    "    pi_approx = 4 *  totaldart / float(nthrow)\n",
    "    print(f\"Finished in {execution_time} sec\")\n",
    "    print(\"Num darts hit = \",  totaldart)\n",
    "    print(\"Pi approx:\", pi_approx)\n",
    "    print(\"Darts thrown per second:\" , nthrow / execution_time)\n",
    "\n",
    "   ##################\n",
    "    print('##Simple Serial##')\n",
    "    number_of_darts_in_circle = 0\n",
    "    start = time()\n",
    "    results = []\n",
    "    for x in range(nthrow):\n",
    "        results.append(dart(x))\n",
    "    totaldart = sum(results)\n",
    "    end= time()\n",
    "    execution_time= end - start\n",
    "    pi_approx = 4 *  totaldart / float(nthrow)\n",
    "    print(f\"Finished in {execution_time} sec\")\n",
    "    print(\"Num darts hit = \", totaldart)\n",
    "    print(\"Pi approx:\", pi_approx)\n",
    "    print(\"Darts thrown per second:\" , nthrow / execution_time)\n",
    "\n",
    "       ##################\n",
    "    print('##Dask##')\n",
    "    number_of_darts_in_circle = 0\n",
    "    start = time()\n",
    "    \n",
    "    #Split up manually into three chunks\n",
    "    values1 = (dart_delayed(int(nthrow/3)))\n",
    "    values2 = (dart_delayed(int(nthrow/3)))\n",
    "    values3 = (dart_delayed(nthrow -2*int(nthrow/3)))\n",
    "    values4 = add(values1,values2,values3)\n",
    "    results = values4.compute()\n",
    "    end= time()\n",
    "    execution_time = end - start\n",
    "    pi_approx = 4 *  results / float(nthrow)\n",
    "    print(f\"Finished in {execution_time} sec\")\n",
    "    print(\"Num darts hit = \",results)\n",
    "    print(\"Pi approx:\", pi_approx)\n",
    "    print(\"Darts thrown per second:\" , nthrow / execution_time)\n",
    "    print('\\n')\n",
    "\n",
    "if __name__ == \"__main__\":\n",
    "    #Allow user to input number of darts\n",
    "    parser = argparse.ArgumentParser(description='Sample Application')\n",
    "    parser.add_argument('-s', action='store', dest='num_throws',\n",
    "                    help='Store a simple value')\n",
    "    results = parser.parse_args()\n",
    "    nthrow = results.num_throws\n",
    "    nthrow = int(nthrow)\n",
    "\n",
    "throw_in_parallel(nthrow)\n",
    "  "
   ]
  },
  {
   "cell_type": "markdown",
   "id": "dcc1b20a",
   "metadata": {},
   "source": [
    "# Experimenting with various dart numbers"
   ]
  },
  {
   "cell_type": "code",
   "execution_count": 31,
   "id": "2b9fb761",
   "metadata": {},
   "outputs": [
    {
     "name": "stdout",
     "output_type": "stream",
     "text": [
      "10 darts\n",
      "##Multiprocessing##\n",
      "Finished in 0.0016820430755615234 sec\n",
      "Num darts hit =  7\n",
      "Pi approx: 2.8\n",
      "Darts thrown per second: 5945.15095676825\n",
      "##Simple Serial##\n",
      "Finished in 4.601478576660156e-05 sec\n",
      "Num darts hit =  9\n",
      "Pi approx: 3.6\n",
      "Darts thrown per second: 217321.45077720206\n",
      "##Dask##\n",
      "Finished in 0.005259990692138672 sec\n",
      "Num darts hit =  8\n",
      "Pi approx: 3.2\n",
      "Darts thrown per second: 1901.1440485903363\n",
      "\n",
      "\n",
      "10000 darts\n",
      "##Multiprocessing##\n",
      "Finished in 0.005856037139892578 sec\n",
      "Num darts hit =  7896\n",
      "Pi approx: 3.1584\n",
      "Darts thrown per second: 1707639.4430420976\n",
      "##Simple Serial##\n",
      "Finished in 0.007805824279785156 sec\n",
      "Num darts hit =  7847\n",
      "Pi approx: 3.1388\n",
      "Darts thrown per second: 1281094.685400122\n",
      "##Dask##\n",
      "Finished in 0.009447097778320312 sec\n",
      "Num darts hit =  7907\n",
      "Pi approx: 3.1628\n",
      "Darts thrown per second: 1058526.1457702403\n",
      "\n",
      "\n",
      "100000 darts\n",
      "##Multiprocessing##\n",
      "Finished in 0.05083894729614258 sec\n",
      "Num darts hit =  78587\n",
      "Pi approx: 3.14348\n",
      "Darts thrown per second: 1966995.8824577695\n",
      "##Simple Serial##\n",
      "Finished in 0.09245514869689941 sec\n",
      "Num darts hit =  78468\n",
      "Pi approx: 3.13872\n",
      "Darts thrown per second: 1081605.5288368554\n",
      "##Dask##\n",
      "Finished in 0.05248904228210449 sec\n",
      "Num darts hit =  78531\n",
      "Pi approx: 3.14124\n",
      "Darts thrown per second: 1905159.5466830188\n",
      "\n",
      "\n",
      "100000000 darts\n",
      "##Multiprocessing##\n",
      "Finished in 50.201677083969116 sec\n",
      "Num darts hit =  78538699\n",
      "Pi approx: 3.14154796\n",
      "Darts thrown per second: 1991965.32483838\n",
      "##Simple Serial##\n",
      "Finished in 89.54431629180908 sec\n",
      "Num darts hit =  78535381\n",
      "Pi approx: 3.14141524\n",
      "Darts thrown per second: 1116765.4647573354\n",
      "##Dask##\n",
      "Finished in 50.33899807929993 sec\n",
      "Num darts hit =  78543618\n",
      "Pi approx: 3.14174472\n",
      "Darts thrown per second: 1986531.393462941\n",
      "\n",
      "\n"
     ]
    }
   ],
   "source": [
    "!python prob1.py -s 10\n",
    "!python prob1.py -s 10000\n",
    "!python prob1.py -s 100000\n",
    "!python prob1.py -s 100000000"
   ]
  },
  {
   "cell_type": "markdown",
   "id": "0046d5a4",
   "metadata": {},
   "source": [
    "# #Problem 2, plotting execution time as function of number of darts "
   ]
  },
  {
   "cell_type": "code",
   "execution_count": 34,
   "id": "a7ad10fc",
   "metadata": {},
   "outputs": [],
   "source": [
    "con_time_all = []\n",
    "serial_time_all = []\n",
    "dask_time_all =[]\n",
    "serial_rate_all=[]\n",
    "con_rate_all=[]\n",
    "dask_rate_all =[]\n",
    "darts =[]\n",
    "\n",
    "for x in [10, 100,1000,   10000, 100000, 1000000, 10000000]:\n",
    "\n",
    "    a = !python prob1.py -s $x\n",
    "    darts.append(x)\n",
    "\n",
    "    #Split up and store output for plotting \n",
    "    con_time = float(a[2].split()[2])\n",
    "    serial_time = float(a[7].split()[2])\n",
    "    dask_time = float(a[12].split()[2])\n",
    "\n",
    "    con_rate = float(a[5].split()[4])\n",
    "    serial_rate =float(a[10].split()[4])\n",
    "    dask_rate = float(a[15].split()[4])\n",
    "\n",
    "    con_time_all.append(con_time)\n",
    "    serial_time_all.append(serial_time)\n",
    "    dask_time_all.append(dask_time)\n",
    "    \n",
    "    con_rate_all.append(con_rate)\n",
    "    serial_rate_all.append(serial_rate)\n",
    "    dask_rate_all.append(dask_rate)\n",
    "    "
   ]
  },
  {
   "cell_type": "code",
   "execution_count": 35,
   "id": "d43c2264",
   "metadata": {},
   "outputs": [
    {
     "data": {
      "image/png": "[encoded data removed]",
      "text/plain": [
       "<Figure size 576x432 with 2 Axes>"
      ]
     },
     "metadata": {
      "needs_background": "light"
     },
     "output_type": "display_data"
    },
    {
     "name": "stdout",
     "output_type": "stream",
     "text": [
      "Processor: 3.5 GHz Dual-Core Intel Core i7, 4 'cores' \n"
     ]
    }
   ],
   "source": [
    "import matplotlib.pyplot as plt\n",
    "import multiprocessing\n",
    "fig, ax1 = plt.subplots(figsize=[8,6])\n",
    "ax2 = ax1.twinx()\n",
    "ax1.plot(darts,serial_time_all, color = 'red', linewidth=2, label ='simple')\n",
    "ax1.plot(darts,con_time_all, color='cyan' ,linewidth=2, label = 'multiprocessing')\n",
    "ax1.plot(darts,dask_time_all, color='green',linewidth=2, label='dask')\n",
    "\n",
    "\n",
    "ax2.plot(darts,con_rate_all, dashes=[6, 2], color='cyan' )\n",
    "ax2.plot(darts,serial_rate_all, dashes=[6, 2], color = 'red')\n",
    "ax2.plot(darts,dask_rate_all,  dashes=[6, 2],  color='green',)\n",
    "\n",
    "ax1.set_ylabel('Execution Time (seconds), solid line',fontsize=15)\n",
    "ax2.set_ylabel('Simulation Rate (darts/second), dashed line',fontsize=15)\n",
    "ax1.loglog()\n",
    "ax2.loglog()\n",
    "\n",
    "ax1.set_ylim(1e-5, 1e2)\n",
    "ax2.set_ylim(1e2, 1e7)\n",
    "ax1.set_xlim(1e1, 1e7)\n",
    "ax1.set_xlabel('Darts Thrown',fontsize=15)\n",
    "ax1.legend(loc='upper left',fontsize=12)\n",
    "ax1.tick_params(labelsize=14)\n",
    "ax2.tick_params(labelsize=14)\n",
    "plt.show()\n",
    "print(\"Processor: 3.5 GHz Dual-Core Intel Core i7, %d 'cores' \" %multiprocessing.cpu_count())"
   ]
  },
  {
   "cell_type": "markdown",
   "id": "cf492a76",
   "metadata": {},
   "source": [
    "**Behavior of plot** : Written in README File "
   ]
  },
  {
   "cell_type": "markdown",
   "id": "7e76b1e6",
   "metadata": {},
   "source": [
    "# #Problem 3, Write a short narrative explaining the differences and advantages between the approaches."
   ]
  },
  {
   "cell_type": "markdown",
   "id": "b2d93dc0",
   "metadata": {},
   "source": [
    "When dealing with a smaller number of tasks (n < 1e4), simple serial will be the most efficient method to use(faser than a ~1 ms) . This is due to the fact that both dask and multiprocessing require additional indirect time which is dedicated towards preparing the calculation before execution. Since this overhead time can add up, the benefits of parallelization will really only outweigh the cost of this overhead time once the calculation grow large enough (n > 1e4), at which point the improvements in rate and execution time of both dask and multiprocessing begin to show a slight improvement over simple serial. \n",
    "\n",
    "\n",
    "For small n , multiprocessing starts out faster than dask. However, once n > 1e5, both methods appear to operate at roughly the same rate. "
   ]
  },
  {
   "cell_type": "code",
   "execution_count": 37,
   "id": "6b52ea02",
   "metadata": {},
   "outputs": [
    {
     "data": {
      "text/plain": [
       "[0.001422882080078125,\n",
       " 0.0018990039825439453,\n",
       " 0.0021448135375976562,\n",
       " 0.005731821060180664,\n",
       " 0.0469512939453125,\n",
       " 0.5018577575683594,\n",
       " 4.649638891220093]"
      ]
     },
     "execution_count": 37,
     "metadata": {},
     "output_type": "execute_result"
    }
   ],
   "source": [
    "con_time_all"
   ]
  },
  {
   "cell_type": "code",
   "execution_count": 38,
   "id": "e999981f",
   "metadata": {},
   "outputs": [
    {
     "data": {
      "text/plain": [
       "[0.005249977111816406,\n",
       " 0.005831003189086914,\n",
       " 0.008450984954833984,\n",
       " 0.009421110153198242,\n",
       " 0.05441474914550781,\n",
       " 0.47069287300109863,\n",
       " 4.83413290977478]"
      ]
     },
     "execution_count": 38,
     "metadata": {},
     "output_type": "execute_result"
    }
   ],
   "source": [
    "dask_time_all"
   ]
  },
  {
   "cell_type": "code",
   "execution_count": 39,
   "id": "f509f606",
   "metadata": {},
   "outputs": [
    {
     "data": {
      "text/plain": [
       "[3.886222839355469e-05,\n",
       " 0.00011420249938964844,\n",
       " 0.0008170604705810547,\n",
       " 0.007731914520263672,\n",
       " 0.08570718765258789,\n",
       " 0.7838609218597412,\n",
       " 8.520324945449829]"
      ]
     },
     "execution_count": 39,
     "metadata": {},
     "output_type": "execute_result"
    }
   ],
   "source": [
    "serial_time_all"
   ]
  },
  {
   "cell_type": "code",
   "execution_count": null,
   "id": "d89da74e",
   "metadata": {},
   "outputs": [],
   "source": []
  }
 ],
 "metadata": {
  "kernelspec": {
   "display_name": "Python 3",
   "language": "python",
   "name": "python3"
  },
  "language_info": {
   "codemirror_mode": {
    "name": "ipython",
    "version": 3
   },
   "file_extension": ".py",
   "mimetype": "text/x-python",
   "name": "python",
   "nbconvert_exporter": "python",
   "pygments_lexer": "ipython3",
   "version": "3.7.4"
  }
 },
 "nbformat": 4,
 "nbformat_minor": 5
}
