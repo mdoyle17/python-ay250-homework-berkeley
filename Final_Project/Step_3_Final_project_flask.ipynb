{
 "cells": [
  {
   "cell_type": "markdown",
   "id": "4467b746",
   "metadata": {},
   "source": [
    "# Astro 250 final project\n",
    "## Margaret Doyle\n",
    "\n",
    "## mddoyle@lbl.gov\n",
    "\n",
    "## May 2022"
   ]
  },
  {
   "cell_type": "markdown",
   "id": "57cd0b38",
   "metadata": {},
   "source": [
    "# Below I set up my web app, which integrates with my ML model. "
   ]
  },
  {
   "cell_type": "code",
   "execution_count": 110,
   "id": "4559314e",
   "metadata": {},
   "outputs": [
    {
     "name": "stdout",
     "output_type": "stream",
     "text": [
      "Overwriting flask_web.py\n"
     ]
    }
   ],
   "source": [
    "%%writefile flask_web.py\n",
    "\n",
    "####Import everything####\n",
    "import os\n",
    "import numpy as np\n",
    "from flask import Flask,render_template,request\n",
    "from werkzeug import secure_filename\n",
    "from wtforms.validators import InputRequired\n",
    "from flask_wtf import FlaskForm\n",
    "from wtforms import FileField, SubmitField,SelectField, StringField\n",
    "import pybtex\n",
    "from dominate.tags import img\n",
    "from flask_sqlalchemy import SQLAlchemy\n",
    "from flask_nav import Nav\n",
    "from flask_bootstrap import Bootstrap\n",
    "from flask_nav.elements import *\n",
    "from pybtex.database import parse_file\n",
    "import sqlite3\n",
    "import pickle\n",
    "import h5py\n",
    "from PIL import Image\n",
    "\n",
    "def unique(list1):\n",
    "    # initialize a null list\n",
    "    unique_list = []\n",
    "     \n",
    "    # traverse for all elements\n",
    "    for x in list1:\n",
    "        # check if exists in unique_list or not\n",
    "        if x not in unique_list:\n",
    "            unique_list.append(x)\n",
    "    # print list\n",
    "    all_unique = []\n",
    "    for x in unique_list:\n",
    "        all_unique.append(x)\n",
    "    return all_unique\n",
    "\n",
    "def Reverse(lst):\n",
    "    return [ele for ele in reversed(lst)]\n",
    "\n",
    "####Create app instance ####\n",
    "app = Flask(__name__)\n",
    "\n",
    "model = pickle.load(open('model.pkl','rb'))\n",
    "\n",
    "hf = h5py.File('train_data.h5', 'r')\n",
    "\n",
    "labels = hf['label'][()]\n",
    "options = unique(labels)\n",
    "#execute query\n",
    "\n",
    "\n",
    "####Encryption key####\n",
    "app.config['SECRET_KEY'] = 'randomkey'\n",
    "\n",
    "####Configure upload folder####\n",
    "app.config['UPLOAD_FOLDER'] = 'uploads/'\n",
    "\n",
    "class register(FlaskForm):\n",
    "    file = FileField(\"File\", validators =[InputRequired()])\n",
    "    submit = SubmitField(\"Insert Spectra for Prediction\")\n",
    "\n",
    "####Home page ####    \n",
    "@app.route('/', methods=[\"GET\",\"POST\"]) \n",
    "def home():\n",
    "    return render_template('home_page.html')\n",
    "\n",
    "####Navigation page#### \n",
    "@app.route('/navpage')\n",
    "def navpage():\n",
    "    return render_template('navpage.html')\n",
    "\n",
    "####Upload page####   \n",
    "@app.route('/Upload', methods=[\"GET\",\"POST\"]) \n",
    "\n",
    "    \n",
    "def register_spectra():\n",
    "\n",
    "    spec = register()\n",
    "    \n",
    "    if spec.validate_on_submit():\n",
    "        #Store into file variable \n",
    "        file = spec.file.data \n",
    "        file.save(os.path.join(os.path.abspath(os.path.dirname(__file__)),app.config['UPLOAD_FOLDER'],file.filename))\n",
    "        \n",
    "        img = np.load(os.path.join(os.path.abspath(os.path.dirname(__file__)),app.config['UPLOAD_FOLDER'],file.filename))\n",
    "        \n",
    "        prediction=model.predict(img)\n",
    "     \n",
    "        \n",
    "        img_for_display = Image.fromarray((img[0]).astype(np.uint8))\n",
    "        img_for_display.save(os.path.join(os.path.abspath(os.path.dirname(__file__)),app.config['UPLOAD_FOLDER'],'temp.png'))\n",
    "        \n",
    "        \n",
    "        return_string =[]\n",
    "        for x in range(0,len(prediction[0])):\n",
    "            return_string.append('%s percent chance of being %s' %((prediction[0][x])*100, options[x]) )\n",
    "        \n",
    "        #Now want to sort results ... \n",
    "        updated=[]\n",
    "        for y in return_string:\n",
    "            i =y.split(\" \")\n",
    "            i[0] = float(i[0])\n",
    "            updated.append(i)\n",
    "            \n",
    "        new_idx = [i[0] for i in sorted(enumerate(updated), key=lambda x:x[1])]\n",
    "        \n",
    "        \n",
    "        return render_template('template2.html', data=Reverse(np.array(return_string)[new_idx]))\n",
    "    return render_template('template1.html', form=spec)\n",
    "\n",
    "\n",
    "    \n",
    "    \n",
    "if __name__ == '__main__':\n",
    "    app.run(debug=True, port=9000)"
   ]
  },
  {
   "cell_type": "code",
   "execution_count": 1,
   "id": "ac19fa54",
   "metadata": {},
   "outputs": [
    {
     "name": "stderr",
     "output_type": "stream",
     "text": [
      "/Users/yyk_lab/Downloads/ay250-hw/python-ay250-homework/Final_Project/flask_web.py:6: DeprecationWarning: The import 'werkzeug.secure_filename' is deprecated and will be removed in Werkzeug 1.0. Use 'from werkzeug.utils import secure_filename' instead.\n",
      "  from werkzeug import secure_filename\n"
     ]
    },
    {
     "name": "stdout",
     "output_type": "stream",
     "text": [
      " * Serving Flask app \"flask_web\" (lazy loading)\n",
      " * Environment: production\n",
      "   WARNING: This is a development server. Do not use it in a production deployment.\n",
      "   Use a production WSGI server instead.\n",
      " * Debug mode: on\n"
     ]
    },
    {
     "name": "stderr",
     "output_type": "stream",
     "text": [
      " * Running on http://127.0.0.1:9000/ (Press CTRL+C to quit)\n",
      " * Restarting with stat\n"
     ]
    }
   ],
   "source": [
    "%run flask_web.py"
   ]
  },
  {
   "cell_type": "code",
   "execution_count": null,
   "id": "a3c7d591",
   "metadata": {},
   "outputs": [],
   "source": []
  }
 ],
 "metadata": {
  "kernelspec": {
   "display_name": "Python 3",
   "language": "python",
   "name": "python3"
  },
  "language_info": {
   "codemirror_mode": {
    "name": "ipython",
    "version": 3
   },
   "file_extension": ".py",
   "mimetype": "text/x-python",
   "name": "python",
   "nbconvert_exporter": "python",
   "pygments_lexer": "ipython3",
   "version": "3.7.4"
  }
 },
 "nbformat": 4,
 "nbformat_minor": 5
}
