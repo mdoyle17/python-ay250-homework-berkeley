{
 "cells": [
  {
   "cell_type": "markdown",
   "id": "4dade392",
   "metadata": {},
   "source": [
    "# Astro 250 final project \n",
    "\n",
    "Margaret Doyle\n",
    "\n",
    "mddoyle@lbl.gov \n",
    "\n",
    "May 2022"
   ]
  },
  {
   "cell_type": "markdown",
   "id": "bf6ad801",
   "metadata": {},
   "source": [
    "# Assemble training data"
   ]
  },
  {
   "cell_type": "code",
   "execution_count": 1,
   "id": "97c9648c",
   "metadata": {},
   "outputs": [],
   "source": [
    "import h5py \n",
    "from IPython.display import clear_output\n",
    "import numpy as np\n",
    "from scipy.ndimage.interpolation import rotate\n",
    "import matplotlib.pyplot as plt\n",
    "\n",
    "#Have function for loading in runs and creating 2d image\n",
    "def load_runs(runs,bt, d):\n",
    "    x = []; y = []; adu = []; ndrop = []; gmd = []; evts = []\n",
    "    for run in runs: \n",
    "        print(run)\n",
    "        if bt == 'LX45':\n",
    "            if d ==1:\n",
    "                fh = h5py.File('/reg/data/ana16/mfx/mfxlx4519/scratch/ffb/xes/det1/run-%03d.h5' %run, 'r')\n",
    "                X  = fh['x'][()]; Y = fh['y'][()]; I = fh['adu'][()]; N  = fh['ndroplets'][()]\n",
    "                E  = fh['pulse_energy'][()];   fh.close()\n",
    "            else: \n",
    "                fh = h5py.File('/reg/data/ana16/mfx/mfxlx4519/scratch/ffb/xes/det2/run-%03d.h5' %run, 'r')\n",
    "                X  = fh['x'][()]; Y = fh['y'][()]; I = fh['adu'][()]; N  = fh['ndroplets'][()]\n",
    "                E  = fh['pulse_energy'][()];  fh.close()    \n",
    "        if bt == 'LY64':\n",
    "            if d ==1:\n",
    "                fh = h5py.File('/cds/data/drpsrcf/mfx/mfxly6420/scratch/xes/det1/run-%03d.h5' %run, 'r')\n",
    "                X  = fh['x'][()]; Y = fh['y'][()]; I = fh['adu'][()]; N  = fh['ndroplets'][()]\n",
    "                E  = fh['pulse_energy'][()];  fh.close()    \n",
    "            else:\n",
    "                fh = h5py.File('/cds/data/drpsrcf/mfx/mfxly6420/scratch/xes/det2/run-%03d.h5' %run, 'r')\n",
    "                X  = fh['x'][()]; Y = fh['y'][()]; I = fh['adu'][()]; N  = fh['ndroplets'][()]\n",
    "                E  = fh['pulse_energy'][()];  fh.close()    \n",
    "        if bt =='LY38': \n",
    "            if d ==1:\n",
    "                fh = h5py.File('/reg/data/ana15/mfx/mfxly3820/scratch/ffb/xes/det1/run-%03d.h5' %run, 'r')\n",
    "                X  = fh['x'][()]; Y = fh['y'][()]; I = fh['adu'][()]; N  = fh['ndroplets'][()]\n",
    "                E  = fh['pulse_energy'][()];  fh.close()   \n",
    "        if bt == 'LX43':\n",
    "            if d ==1:\n",
    "                fh = h5py.File('/reg/data/ana16/mfx/mfxlx4319/scratch/ffb/xes/run-%03d.h5' %run, 'r')\n",
    "                X  = fh['x'][()]; Y = fh['y'][()]; I = fh['adu'][()]; N  = fh['ndroplets'][()]\n",
    "                E  = fh['pulse_energy'][()];  fh.close() \n",
    "                \n",
    "\n",
    "            \n",
    "        \n",
    "        x.append(X); y.append(Y); adu.append(I),ndrop.append(N); gmd.append(E); \n",
    "    return np.concatenate(x),np.concatenate(y),np.concatenate(adu),np.concatenate(ndrop),np.concatenate(gmd)\n",
    "\n",
    "def create_img(x,y,adu,ndrop,adu_int,scale_signal,bt, det):\n",
    "    xm,ym = bin_dim(bt)\n",
    "    if scale_signal == True:\n",
    "        ind,  = np.where((adu >= adu_int[0]) & (adu <= adu_int[1]))\n",
    "        img, xedges, yedges = np.histogram2d(x[ind], y[ind], bins=[np.arange(xm), np.arange(ym)],weights=adu[ind])\n",
    "    elif scale_signal == False:\n",
    "        ind,  = np.where((adu >= adu_int[0]) & (adu <= adu_int[1]))\n",
    "        img_1ph, xedges, yedges = np.histogram2d(x[ind], y[ind], bins=[np.arange(xm), np.arange(ym)])\n",
    "        ind, = np.where((adu >= 2.0*adu_int[0]) & (adu <= 2.0*adu_int[1]))\n",
    "        img_2ph, xedges, yedges = np.histogram2d(x[ind], y[ind], bins=[np.arange(xm), np.arange(ym)])\n",
    "        img = img_1ph + 2.0*img_2ph # scale 2-photon image by factor 2\n",
    "    det_geom(img,bt)\n",
    "    \n",
    "    if det ==1:\n",
    "        img = rotate(img[:, :], -88); \n",
    "      \n",
    "        img = np.fliplr(img)\n",
    "    else: \n",
    "        img = rotate(img[:, :], 90); \n",
    "        img =  np.fliplr(img)\n",
    "        img = np.fliplr(img)\n",
    "\n",
    "    return img\n",
    "\n",
    "def bin_dim(bt):\n",
    "    if bt == 'LX45':\n",
    "        return 710,774\n",
    "    else:\n",
    "        return 705,769\n",
    "    \n",
    "def det_geom(img,bt):\n",
    "    return img\n"
   ]
  },
  {
   "cell_type": "markdown",
   "id": "69a102ed",
   "metadata": {},
   "source": [
    "# Collect Mn foil training data "
   ]
  },
  {
   "cell_type": "code",
   "execution_count": 2,
   "id": "43301278",
   "metadata": {
    "scrolled": false
   },
   "outputs": [
    {
     "name": "stdout",
     "output_type": "stream",
     "text": [
      "99.95 percent done\n"
     ]
    }
   ],
   "source": [
    "\n",
    "%matplotlib notebook\n",
    "\n",
    "indx = 0\n",
    "allshots = []\n",
    "label =[]\n",
    "#32\n",
    "x, y, adu, ndrop, gmd = load_runs([264, 9,10], 'LY38', 1)\n",
    "\n",
    "nimages = len(ndrop)\n",
    "adu_int = [30,2800]\n",
    "\n",
    "#Loop over images \n",
    "for i in np.arange(nimages-1):\n",
    "\n",
    "    x2 = x[indx:indx + ndrop[i]]\n",
    "    y2 = y[indx:indx + ndrop[i]]\n",
    "    adu2 = adu[indx:indx + ndrop[i]]\n",
    "    ndrop2 = len(adu2)\n",
    "    print( \"%0.2f percent done\" %(i / nimages * 100))\n",
    "    clear_output(wait=True)   \n",
    "    img2 = create_img(x2,y2,adu2,ndrop2,[30,2800],True,'LX45',1)\n",
    "\n",
    "    #If signal is decent, append and use for training data \n",
    "\n",
    "    if np.sum(img2[200:600, 90:140])> 8000:\n",
    "        allshots.append(img2[200:600, 90:140]) \n",
    "\n",
    "        label.append('Mn_foil_Kb')\n",
    "    indx += ndrop[i]\n",
    "\n",
    "        \n",
    "\n"
   ]
  },
  {
   "cell_type": "markdown",
   "id": "d05b56c5",
   "metadata": {},
   "source": [
    "# Collect MnCl2 training data "
   ]
  },
  {
   "cell_type": "code",
   "execution_count": 3,
   "id": "61fb5e4d",
   "metadata": {
    "scrolled": false
   },
   "outputs": [
    {
     "name": "stdout",
     "output_type": "stream",
     "text": [
      "99.97 percent done\n"
     ]
    }
   ],
   "source": [
    "\n",
    "%matplotlib notebook\n",
    "\n",
    "indx = 0\n",
    "\n",
    "#32\n",
    "x, y, adu, ndrop, gmd = load_runs([55,54], 'LX43', 1)\n",
    "\n",
    "nimages = len(ndrop)\n",
    "adu_int = [30,2800]\n",
    "\n",
    "#Loop over images \n",
    "for i in np.arange(nimages-1):\n",
    "\n",
    "    x2 = x[indx:indx + ndrop[i]]\n",
    "    y2 = y[indx:indx + ndrop[i]]\n",
    "    adu2 = adu[indx:indx + ndrop[i]]\n",
    "    ndrop2 = len(adu2)\n",
    "    print( \"%0.2f percent done\" %(i / nimages * 100))\n",
    "    clear_output(wait=True)   \n",
    "    img2 = create_img(x2,y2,adu2,ndrop2,[30,2800],True,'LX43',1)\n",
    "\n",
    "    #If signal is decent, append and use for training data \n",
    "\n",
    "    if np.sum(rotate(img2[:, :], 90)[100:500, 560:560+50])> 13000:\n",
    "    \n",
    "        allshots.append(rotate(img2[:, :], 90)[100:500, 560:560+50]) \n",
    "#         plt.figure()\n",
    "#         plt.imshow(rotate(img2[:, :], 90)[100:500, 560:560+50])\n",
    "#         plt.show()\n",
    "        label.append('MnCl2_Kb')\n",
    "    indx += ndrop[i]\n",
    "\n",
    "        \n",
    "\n"
   ]
  },
  {
   "cell_type": "markdown",
   "id": "306e02b0",
   "metadata": {},
   "source": [
    "# Collect Fe III standard training data "
   ]
  },
  {
   "cell_type": "code",
   "execution_count": 4,
   "id": "998af7db",
   "metadata": {
    "scrolled": false
   },
   "outputs": [
    {
     "name": "stdout",
     "output_type": "stream",
     "text": [
      "99.98 percent done\n"
     ]
    }
   ],
   "source": [
    "#Fe III standard \n",
    "%matplotlib notebook\n",
    "\n",
    "indx = 0\n",
    "#32\n",
    "x, y, adu, ndrop, gmd = load_runs([32, 297, 298], 'LX45', 1)\n",
    "\n",
    "nimages = len(ndrop)\n",
    "adu_int = [30,2800]\n",
    "\n",
    "#Loop over images \n",
    "for i in np.arange(nimages-1):\n",
    "\n",
    "    x2 = x[indx:indx + ndrop[i]]\n",
    "    y2 = y[indx:indx + ndrop[i]]\n",
    "    adu2 = adu[indx:indx + ndrop[i]]\n",
    "    ndrop2 = len(adu2)\n",
    "    print( \"%0.2f percent done\" %(i / nimages * 100))\n",
    "    clear_output(wait=True)   \n",
    "    img2 = create_img(x2,y2,adu2,ndrop2,[30,2800],True,'LX45',1)\n",
    "\n",
    "    #If signal is decent, append and use for training data \n",
    "\n",
    "    if np.sum(img2[0:400, 150:200])> 10000:\n",
    "\n",
    "        allshots.append(img2[0:400, 150:200]) \n",
    "        label.append('Fe_III_nitrate_Ka')\n",
    "    indx += ndrop[i]\n",
    "\n",
    "        \n",
    "\n"
   ]
  },
  {
   "cell_type": "markdown",
   "id": "9889420f",
   "metadata": {},
   "source": [
    "# Fe foil "
   ]
  },
  {
   "cell_type": "code",
   "execution_count": 5,
   "id": "43555625",
   "metadata": {},
   "outputs": [
    {
     "name": "stdout",
     "output_type": "stream",
     "text": [
      "99.69 percent done\n"
     ]
    }
   ],
   "source": [
    "x, y, adu, ndrop, gmd = load_runs([71, 126, 150, 192], 'LY64', 1)\n",
    "indx = 0\n",
    "nimages = len(ndrop)\n",
    "adu_int = [30,2800]\n",
    "\n",
    "#Loop over images \n",
    "for i in np.arange(nimages-1):\n",
    "\n",
    "    x2 = x[indx:indx + ndrop[i]]\n",
    "    y2 = y[indx:indx + ndrop[i]]\n",
    "    adu2 = adu[indx:indx + ndrop[i]]\n",
    "    ndrop2 = len(adu2)\n",
    "    print( \"%0.2f percent done\" %(i / nimages * 100))\n",
    "    clear_output(wait=True)   \n",
    "    img2 = create_img(x2,y2,adu2,ndrop2,[30,2800],True,'LY64',1)\n",
    "\n",
    "    #If signal is decent, append and use for training data \n",
    "    if np.sum(img2[0:400, 90:140])> 5000:\n",
    "  \n",
    "        allshots.append(img2[0:400, 90:140]) ,254\n",
    "        label.append('Fe_foil_Ka')\n",
    "    indx += ndrop[i]\n",
    "    \n",
    "x, y, adu, ndrop, gmd = load_runs([254], 'LY64', 1)\n",
    "indx = 0\n",
    "nimages = len(ndrop)\n",
    "adu_int = [30,2800]\n",
    "\n",
    "#Loop over images \n",
    "for i in np.arange(nimages-1):\n",
    "\n",
    "    x2 = x[indx:indx + ndrop[i]]\n",
    "    y2 = y[indx:indx + ndrop[i]]\n",
    "    adu2 = adu[indx:indx + ndrop[i]]\n",
    "    ndrop2 = len(adu2)\n",
    "    print( \"%0.2f percent done\" %(i / nimages * 100))\n",
    "    clear_output(wait=True)   \n",
    "    img2 = create_img(x2,y2,adu2,ndrop2,[30,2800],True,'LY64',1)\n",
    "\n",
    "    #If signal is decent, append and use for training data \n",
    "    if np.sum(img2[0:400, 100:150])> 8000:\n",
    "        \n",
    "        allshots.append(img2[0:400, 100:150])\n",
    "        label.append('Fe_foil_Ka')\n",
    "    indx += ndrop[i]"
   ]
  },
  {
   "cell_type": "markdown",
   "id": "aaeb52bf",
   "metadata": {},
   "source": [
    "# Fe III nitrate "
   ]
  },
  {
   "cell_type": "code",
   "execution_count": 6,
   "id": "8e67a5e3",
   "metadata": {
    "scrolled": true
   },
   "outputs": [
    {
     "name": "stdout",
     "output_type": "stream",
     "text": [
      "99.97 percent done\n"
     ]
    }
   ],
   "source": [
    "\n",
    "%matplotlib notebook\n",
    "\n",
    "indx = 0\n",
    "x, y, adu, ndrop, gmd = load_runs([255,256], 'LY64', 1)\n",
    "\n",
    "nimages = len(ndrop)\n",
    "adu_int = [30,2800]\n",
    "\n",
    "#Loop over images \n",
    "for i in np.arange(nimages-1):\n",
    "\n",
    "    x2 = x[indx:indx + ndrop[i]]\n",
    "    y2 = y[indx:indx + ndrop[i]]\n",
    "    adu2 = adu[indx:indx + ndrop[i]]\n",
    "    ndrop2 = len(adu2)\n",
    "    print( \"%0.2f percent done\" %(i / nimages * 100))\n",
    "    clear_output(wait=True)   \n",
    "    img2 = create_img(x2,y2,adu2,ndrop2,[30,2800],True,'LX45',1)\n",
    "\n",
    "    #If signal is decent, append and use for training data \n",
    "\n",
    "    if np.sum(img2[0:400, 150:200])> 10000:\n",
    "\n",
    "        allshots.append(img2[0:400, 150:200]) \n",
    "                         \n",
    "                                   \n",
    "        label.append('Fe_III_nitrate_Ka')\n",
    "    indx += ndrop[i]\n",
    "\n",
    "        "
   ]
  },
  {
   "cell_type": "markdown",
   "id": "cfe03221",
   "metadata": {},
   "source": [
    "# Ni II chloride"
   ]
  },
  {
   "cell_type": "code",
   "execution_count": 7,
   "id": "97a1a297",
   "metadata": {
    "scrolled": true
   },
   "outputs": [
    {
     "name": "stdout",
     "output_type": "stream",
     "text": [
      "99.98 percent done\n"
     ]
    }
   ],
   "source": [
    "x, y, adu, ndrop, gmd = load_runs([32, 297, 298], 'LX45', 2)\n",
    "\n",
    "indx = 0\n",
    "nimages = len(ndrop)\n",
    "adu_int = [30,2800]\n",
    "\n",
    "#Loop over images \n",
    "for i in np.arange(nimages-1):\n",
    "\n",
    "    x2 = x[indx:indx + ndrop[i]]\n",
    "    y2 = y[indx:indx + ndrop[i]]\n",
    "    adu2 = adu[indx:indx + ndrop[i]]\n",
    "    ndrop2 = len(adu2)\n",
    "    print( \"%0.2f percent done\" %(i / nimages * 100))\n",
    "    clear_output(wait=True)   \n",
    "    img2 = create_img(x2,y2,adu2,ndrop2,[30,2800],True,'LX45',1)\n",
    "\n",
    "    #If signal is decent, append and use for training data \n",
    "    if np.sum(img2[797-400:797, 480:580-50]) > 10000:\n",
    "        allshots.append(img2[797-400:797, 480:580-50]) \n",
    "        label.append('Ni_II_chloride_Ka')\n",
    "    indx += ndrop[i]\n",
    "\n",
    "    "
   ]
  },
  {
   "cell_type": "markdown",
   "id": "0a51369e",
   "metadata": {},
   "source": [
    "# Ni II Nitrate "
   ]
  },
  {
   "cell_type": "code",
   "execution_count": 8,
   "id": "d08c1b3c",
   "metadata": {
    "scrolled": true
   },
   "outputs": [
    {
     "name": "stdout",
     "output_type": "stream",
     "text": [
      "99.94 percent done\n"
     ]
    }
   ],
   "source": [
    "x, y, adu, ndrop, gmd = load_runs([173,174], 'LX45', 2)\n",
    "\n",
    "indx = 0\n",
    "nimages = len(ndrop)\n",
    "adu_int = [30,2800]\n",
    "\n",
    "#Loop over images \n",
    "for i in np.arange(nimages-1):\n",
    "\n",
    "    x2 = x[indx:indx + ndrop[i]]\n",
    "    y2 = y[indx:indx + ndrop[i]]\n",
    "    adu2 = adu[indx:indx + ndrop[i]]\n",
    "    ndrop2 = len(adu2)\n",
    "    print( \"%0.2f percent done\" %(i / nimages * 100))\n",
    "    clear_output(wait=True)   \n",
    "    img2 = create_img(x2,y2,adu2,ndrop2,[30,2800],True,'LX45',1)\n",
    "\n",
    "    #If signal is decent, append and use for training data \n",
    "    if np.sum(img2[797-400:797,494-20:494+30])> 10000:\n",
    "        allshots.append(img2[797-400:797,494-20:494+30]) \n",
    "        label.append('Ni_II_Nitrate_Ka')\n",
    "    indx += ndrop[i]"
   ]
  },
  {
   "cell_type": "code",
   "execution_count": 9,
   "id": "b2b31a89",
   "metadata": {
    "scrolled": false
   },
   "outputs": [
    {
     "name": "stdout",
     "output_type": "stream",
     "text": [
      "99.94 percent done\n"
     ]
    }
   ],
   "source": [
    "x, y, adu, ndrop, gmd = load_runs([234], 'LY64', 2)\n",
    "\n",
    "indx = 0\n",
    "nimages = len(ndrop)\n",
    "adu_int = [30,2800]\n",
    "\n",
    "#Loop over images \n",
    "for i in np.arange(nimages-1):\n",
    "\n",
    "    x2 = x[indx:indx + ndrop[i]]\n",
    "    y2 = y[indx:indx + ndrop[i]]\n",
    "    adu2 = adu[indx:indx + ndrop[i]]\n",
    "    ndrop2 = len(adu2)\n",
    "    print( \"%0.2f percent done\" %(i / nimages * 100))\n",
    "    clear_output(wait=True)   \n",
    "    img2 = create_img(x2,y2,adu2,ndrop2,[30,2800],True,'LX45',1)\n",
    "\n",
    "    #If signal is decent, append and use for training data \n",
    "    if np.sum(img2[796-400:796, 660:660+50])> 16000:\n",
    "        allshots.append(img2[796-400:796, 660:660+50]) \n",
    "        label.append('Ni_II_Nitrate_Ka')\n",
    "    indx += ndrop[i]"
   ]
  },
  {
   "cell_type": "markdown",
   "id": "5b18a0a5",
   "metadata": {},
   "source": [
    "# Ni II trisbipy"
   ]
  },
  {
   "cell_type": "code",
   "execution_count": 10,
   "id": "818ec822",
   "metadata": {
    "scrolled": true
   },
   "outputs": [
    {
     "name": "stdout",
     "output_type": "stream",
     "text": [
      "99.98 percent done\n"
     ]
    }
   ],
   "source": [
    "x, y, adu, ndrop, gmd = load_runs([176,177, 178], 'LX45', 2)\n",
    "indx = 0\n",
    "nimages = len(ndrop)\n",
    "adu_int = [30,2800]\n",
    "\n",
    "#Loop over images \n",
    "for i in np.arange(nimages-1):\n",
    "\n",
    "    x2 = x[indx:indx + ndrop[i]]\n",
    "    y2 = y[indx:indx + ndrop[i]]\n",
    "    adu2 = adu[indx:indx + ndrop[i]]\n",
    "    ndrop2 = len(adu2)\n",
    "    print( \"%0.2f percent done\" %(i / nimages * 100))\n",
    "    clear_output(wait=True)   \n",
    "    img2 = create_img(x2,y2,adu2,ndrop2,[30,2800],True,'LX45',1)\n",
    "\n",
    "    #If signal is decent, append and use for training data \n",
    "    if np.sum(img2[797-400:797, 480:580-50])> 10000:\n",
    "        allshots.append(img2[797-400:797, 480:580-50]) \n",
    "\n",
    "        label.append('Ni_II_trisbipy_Ka')\n",
    "    indx += ndrop[i]"
   ]
  },
  {
   "cell_type": "markdown",
   "id": "ae155a50",
   "metadata": {},
   "source": [
    "# Ni foil "
   ]
  },
  {
   "cell_type": "code",
   "execution_count": 11,
   "id": "3ab50e70",
   "metadata": {
    "scrolled": true
   },
   "outputs": [
    {
     "name": "stdout",
     "output_type": "stream",
     "text": [
      "99.69 percent done\n"
     ]
    }
   ],
   "source": [
    "x, y, adu, ndrop, gmd = load_runs([ 126], 'LY64', 2)\n",
    "indx = 0\n",
    "nimages = len(ndrop)\n",
    "adu_int = [30,2800]\n",
    "\n",
    "#Loop over images \n",
    "for i in np.arange(nimages-1):\n",
    "\n",
    "    x2 = x[indx:indx + ndrop[i]]\n",
    "    y2 = y[indx:indx + ndrop[i]]\n",
    "    adu2 = adu[indx:indx + ndrop[i]]\n",
    "    ndrop2 = len(adu2)\n",
    "    print( \"%0.2f percent done\" %(i / nimages * 100))\n",
    "    clear_output(wait=True)   \n",
    "    img2 = create_img(x2,y2,adu2,ndrop2,[30,2800],True,'LY64',2)\n",
    "\n",
    "    #If signal is decent, append and use for training data \n",
    "    if np.sum(img2[0:400, 555:605])> 10000:\n",
    "        allshots.append(img2[0:400, 555:605]) \n",
    "        label.append('Ni_foil_Ka')\n",
    "    indx += ndrop[i]"
   ]
  },
  {
   "cell_type": "code",
   "execution_count": 12,
   "id": "ea7cd2a9",
   "metadata": {
    "scrolled": false
   },
   "outputs": [
    {
     "name": "stdout",
     "output_type": "stream",
     "text": [
      "99.83 percent done\n"
     ]
    }
   ],
   "source": [
    "x, y, adu, ndrop, gmd = load_runs([9], 'LY64', 1)\n",
    "indx = 0\n",
    "nimages = len(ndrop)\n",
    "adu_int = [30,2800]\n",
    "\n",
    "#Loop over images \n",
    "for i in np.arange(nimages-1):\n",
    "\n",
    "    x2 = x[indx:indx + ndrop[i]]\n",
    "    y2 = y[indx:indx + ndrop[i]]\n",
    "    adu2 = adu[indx:indx + ndrop[i]]\n",
    "    ndrop2 = len(adu2)\n",
    "    print( \"%0.2f percent done\" %(i / nimages * 100))\n",
    "    clear_output(wait=True)   \n",
    "    img2 = create_img(x2,y2,adu2,ndrop2,[30,2800],True,'LY64',1)\n",
    "\n",
    "    #If signal is decent, append and use for training data \n",
    "    if np.sum(img2[0:400, 100:150])> -10000:\n",
    "        \n",
    "        allshots.append(img2[0:400, 100:150])\n",
    "        label.append('Dark')\n",
    "    indx += ndrop[i]"
   ]
  },
  {
   "cell_type": "markdown",
   "id": "112ee69a",
   "metadata": {},
   "source": [
    "# Saving out and loading in data set "
   ]
  },
  {
   "cell_type": "code",
   "execution_count": 13,
   "id": "226e2b46",
   "metadata": {},
   "outputs": [],
   "source": [
    "hf = h5py.File('train_data.h5', 'w')\n",
    "hf.create_dataset('image', data=allshots)\n",
    "hf.create_dataset('label', data=label)\n",
    "hf.close()"
   ]
  },
  {
   "cell_type": "code",
   "execution_count": 14,
   "id": "d991e571",
   "metadata": {},
   "outputs": [],
   "source": [
    "hf = h5py.File('train_data.h5', 'r')"
   ]
  },
  {
   "cell_type": "code",
   "execution_count": 15,
   "id": "4117aa21",
   "metadata": {},
   "outputs": [],
   "source": [
    "images  = hf['image'][()]\n",
    "labels = hf['label'][()]"
   ]
  },
  {
   "cell_type": "code",
   "execution_count": 16,
   "id": "76624bc2",
   "metadata": {},
   "outputs": [
    {
     "name": "stdout",
     "output_type": "stream",
     "text": [
      "labels shape: (19611,)\n",
      "images shape: (19611, 400, 50)\n"
     ]
    }
   ],
   "source": [
    "print(f\"labels shape: {labels.shape}\")\n",
    "print(f\"images shape: {images.shape}\")"
   ]
  },
  {
   "cell_type": "code",
   "execution_count": null,
   "id": "f43bf6a6",
   "metadata": {},
   "outputs": [],
   "source": []
  },
  {
   "cell_type": "code",
   "execution_count": null,
   "id": "d675e89d",
   "metadata": {},
   "outputs": [],
   "source": []
  },
  {
   "cell_type": "code",
   "execution_count": null,
   "id": "258d6110",
   "metadata": {},
   "outputs": [],
   "source": []
  },
  {
   "cell_type": "code",
   "execution_count": null,
   "id": "1eb80cf2",
   "metadata": {},
   "outputs": [],
   "source": []
  },
  {
   "cell_type": "code",
   "execution_count": null,
   "id": "3908524a",
   "metadata": {},
   "outputs": [],
   "source": []
  }
 ],
 "metadata": {
  "kernelspec": {
   "display_name": "LCLS-I py3",
   "language": "python",
   "name": "ana1-current-py3"
  },
  "language_info": {
   "codemirror_mode": {
    "name": "ipython",
    "version": 3
   },
   "file_extension": ".py",
   "mimetype": "text/x-python",
   "name": "python",
   "nbconvert_exporter": "python",
   "pygments_lexer": "ipython3",
   "version": "3.7.12"
  }
 },
 "nbformat": 4,
 "nbformat_minor": 5
}
