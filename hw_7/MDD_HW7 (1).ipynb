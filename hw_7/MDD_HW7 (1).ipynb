{
 "cells": [
  {
   "cell_type": "markdown",
   "id": "928badc6",
   "metadata": {},
   "source": [
    "# HW 7\n",
    "# Margaret Doyle\n",
    "# mddoyle@lbl.gov "
   ]
  },
  {
   "cell_type": "code",
   "execution_count": 7,
   "id": "e7f35b20",
   "metadata": {},
   "outputs": [
    {
     "name": "stdout",
     "output_type": "stream",
     "text": [
      "Overwriting flask_web.py\n"
     ]
    }
   ],
   "source": [
    "%%writefile flask_web.py\n",
    "\n",
    "####Import everything####\n",
    "import os\n",
    "import numpy as np\n",
    "from flask import Flask,render_template,request\n",
    "from werkzeug import secure_filename\n",
    "from wtforms.validators import InputRequired\n",
    "from flask_wtf import FlaskForm\n",
    "from wtforms import FileField, SubmitField,SelectField, StringField\n",
    "import pybtex\n",
    "from dominate.tags import img\n",
    "from flask_sqlalchemy import SQLAlchemy\n",
    "from flask_nav import Nav\n",
    "from flask_bootstrap import Bootstrap\n",
    "from flask_nav.elements import *\n",
    "from pybtex.database import parse_file\n",
    "import sqlite3\n",
    "\n",
    "####Create app instance ####\n",
    "app = Flask(__name__)\n",
    "\n",
    "##Configure two FLask-SQLAlchemy configuration keys \n",
    "database_name = 'allbibs.db'\n",
    "currentdir = os.path.abspath(os.path.dirname(__file__))\n",
    "app.config['SQLALCHEMY_DATABASE_URI'] = 'sqlite:///' + os.path.join(currentdir, database_name)\n",
    "app.config['SQLALCHEMY_TRACK_MODIFICATIONS'] = False\n",
    "\n",
    "#Create database object\n",
    "database = SQLAlchemy(app)\n",
    "connection = sqlite3.connect('allbibs.db')\n",
    "sql_cmd ='''CREATE TABLE IF NOT EXISTS entries (ref_tag text,author_list text, journal text, volume integer, pages string, year integer, title string, collection string)'''\n",
    "\n",
    "#execute query\n",
    "cursor = connection.cursor()\n",
    "\n",
    "####Encryption key####\n",
    "app.config['SECRET_KEY'] = 'somerandomkey'\n",
    "\n",
    "####Configure upload folder####\n",
    "app.config['UPLOAD_FOLDER'] = 'uploads/uploaded_bibs'\n",
    "\n",
    "##Create Bibs model###\n",
    "class bibs(database.Model):\n",
    "    __tablename__ = 'entries'\n",
    "    #Define columns \n",
    "    id = database.Column(database.Integer, primary_key=True)\n",
    "\n",
    "    ref_tag = database.Column(database.String)\n",
    "    author_list = database.Column(database.String)\n",
    "    journal = database.Column(database.String)\n",
    "    volume = database.Column(database.Integer)\n",
    "    pages = database.Column(database.String)\n",
    "    year = database.Column(database.Integer)\n",
    "    title = database.Column(database.String)\n",
    "    collection = database.Column(database.String)\n",
    "    \n",
    "    def __init__(self, ref_tag: str, author_list: str, journal: str, volume: int, pages: str, year: int, title: str, collection: str ):\n",
    "        self.ref_tag =ref_tag\n",
    "        self.author_list =author_list\n",
    "        self.journal = journal\n",
    "        self.volume = volume\n",
    "        self.pages = pages\n",
    "        self.year = year\n",
    "        self.title = title\n",
    "        self.collection = collection\n",
    "        \n",
    "####Create class for registering bib####\n",
    "class register(FlaskForm):\n",
    "    file = FileField(\"File\", validators =[InputRequired()])\n",
    "    submit = SubmitField(\"Insert Collection (ﾉ◕ヮ◕)ﾉ*:･ﾟ✧\")\n",
    "\n",
    "\n",
    "####Home page ####    \n",
    "@app.route('/', methods=[\"GET\",\"POST\"]) \n",
    "def home():\n",
    "    return render_template('home_page.html')\n",
    "\n",
    "####Navigation page#### \n",
    "@app.route('/navpage')\n",
    "def navpage():\n",
    "    return render_template('navpage.html')\n",
    "\n",
    "####Upload page####   \n",
    "@app.route('/Upload', methods=[\"GET\",\"POST\"]) \n",
    "\n",
    "def registerbib():\n",
    "\n",
    "    bib = register()\n",
    "    \n",
    "    if bib.validate_on_submit():\n",
    "        #Store into file variable \n",
    "        file = bib.file.data \n",
    "        file.save(os.path.join(os.path.abspath(os.path.dirname(__file__)),app.config['UPLOAD_FOLDER'],file.filename))\n",
    "        \n",
    "        #Get user input name for collection\n",
    "        form =request.form\n",
    "       \n",
    "        bib_info = parse_file(os.path.join(os.path.abspath(os.path.dirname(__file__)),app.config['UPLOAD_FOLDER'],file.filename))\n",
    "        \n",
    "        for b in  bib_info.entries:\n",
    "\n",
    "            authors = bib_info.entries[b].persons['author']\n",
    "         \n",
    "            entry = bibs(\n",
    "                ref_tag = b,\n",
    "                author_list = str(authors),\n",
    "                journal = bib_info.entries[b].fields['journal'],\n",
    "                volume = bib_info.entries[b].fields['volume'],\n",
    "                pages = bib_info.entries[b].fields['pages'],\n",
    "                year = bib_info.entries[b].fields['year'],\n",
    "                title = bib_info.entries[b].fields['title'],\n",
    "                collection = form['name'] )\n",
    "            database.session.add(entry)\n",
    "            database.session.commit()\n",
    "        return 'Thanks for uploading the following collection: %s ' %( form['name'] ) \n",
    "\n",
    "    return render_template('template1.html', form=bib)\n",
    "\n",
    "####Query page####  \n",
    "@app.route('/RunQuery', methods=[\"GET\",\"POST\"]) \n",
    "\n",
    "\n",
    "def run_query():\n",
    "    return render_template('template2.html')\n",
    "\n",
    "#####Results page####\n",
    "@app.route('/search', methods=[\"GET\",\"POST\"])     \n",
    "\n",
    "def search():\n",
    "    if request.method == \"POST\":\n",
    "        inputs= request.form['search']\n",
    "        connection = sqlite3.connect('allbibs.db')\n",
    "        cursor = connection.cursor()\n",
    "        \n",
    "        query = \"\"\"SELECT * FROM entries where %s \"\"\" %(inputs)\n",
    "        cursor.execute(query)\n",
    "        result = cursor.fetchall()\n",
    "\n",
    "        return str(result) \n",
    "    \n",
    "\n",
    "if __name__ == '__main__':\n",
    "    app.run(debug=True, port=9000)"
   ]
  },
  {
   "cell_type": "code",
   "execution_count": 8,
   "id": "1a9687bf",
   "metadata": {},
   "outputs": [
    {
     "name": "stdout",
     "output_type": "stream",
     "text": [
      " * Serving Flask app \"flask_web\" (lazy loading)\n",
      " * Environment: production\n",
      "   WARNING: This is a development server. Do not use it in a production deployment.\n",
      "   Use a production WSGI server instead.\n",
      " * Debug mode: on\n"
     ]
    },
    {
     "name": "stderr",
     "output_type": "stream",
     "text": [
      " * Running on http://127.0.0.1:9000/ (Press CTRL+C to quit)\n",
      " * Restarting with stat\n"
     ]
    }
   ],
   "source": [
    "%run flask_web.py"
   ]
  },
  {
   "cell_type": "markdown",
   "id": "01dac7e4",
   "metadata": {},
   "source": [
    "# In terminal, I had to did the following: \n",
    "# export FLASK_APP=flask_web\n",
    "# flask shell\n",
    "# from flask_web import database, bibs\n",
    "# database.create_all()\n"
   ]
  },
  {
   "cell_type": "markdown",
   "id": "005f54de",
   "metadata": {},
   "source": [
    "# For testing, I attempted using travis-ci. But I could not get it to work. My main issues were ImportErrors, and I could not figure it out in time. Below is an example of my test I wanted to run in tests/unit/test_models.py which was meant to check if bibliographies were stored correctly \n"
   ]
  },
  {
   "cell_type": "code",
   "execution_count": 16,
   "id": "1d110f5c",
   "metadata": {},
   "outputs": [],
   "source": [
    "\n",
    "from flask_web import bibs\n",
    "\n",
    "#Want to check bibliography info is stored correctly! \n",
    "def test_bib():\n",
    "    bb = bibs('test_reftag', 'test_author_list', 'test', 0, 'test', 0, 'test', 'test')\n",
    "    assert bb.ref_tag =='test_reftag'\n",
    "    assert bb.volume == 0\n",
    "    assert bb.author_list == 'test_author_list' "
   ]
  },
  {
   "cell_type": "code",
   "execution_count": null,
   "id": "76a58754",
   "metadata": {},
   "outputs": [],
   "source": []
  }
 ],
 "metadata": {
  "kernelspec": {
   "display_name": "Python 3",
   "language": "python",
   "name": "python3"
  },
  "language_info": {
   "codemirror_mode": {
    "name": "ipython",
    "version": 3
   },
   "file_extension": ".py",
   "mimetype": "text/x-python",
   "name": "python",
   "nbconvert_exporter": "python",
   "pygments_lexer": "ipython3",
   "version": "3.7.4"
  }
 },
 "nbformat": 4,
 "nbformat_minor": 5
}
